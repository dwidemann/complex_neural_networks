{
 "cells": [
  {
   "cell_type": "code",
   "execution_count": 52,
   "metadata": {},
   "outputs": [],
   "source": [
    "import torch\n",
    "import torch.nn as nn\n",
    "import numpy as np\n",
    "from pytorch_complex_tensor import ComplexTensor\n",
    "from torch.nn import Conv2d"
   ]
  },
  {
   "cell_type": "markdown",
   "metadata": {},
   "source": [
    "#### The goal is to build a wrapper around torch.nn layers such that \n",
    "\n",
    "**MetaComplexMM('conv2d',kwargs)**\n",
    "\n",
    "creates an subclass of nn.Module that has 2 conv2d functions\n",
    "\n",
    "    f_re = conv2d(**kwargs)\n",
    "\n",
    "    f_im = conv2d(**kwargs)\n",
    "    \n",
    "The initialization and the forward operation should be as below. "
   ]
  },
  {
   "cell_type": "code",
   "execution_count": 53,
   "metadata": {},
   "outputs": [],
   "source": [
    "class ComplexConv2d(nn.Module):\n",
    "    '''\n",
    "    This class is meant to be a generic wrapper around torch.nn\n",
    "    layers such as Dense, Conv, ConvTran,...etc. \n",
    "\n",
    "    If you keep the bias in f_re and f_im, then the \n",
    "    bias becomes (b_r - b_i) + i(b_r + b_i) wheraas the bias \n",
    "    should really be (b_r + ib_i). That's why we need to do \n",
    "    \"bias\" trick below. \n",
    "    '''\n",
    "    def __init__(self, *args, **kwargs):\n",
    "        super(ComplexConv2d,self).__init__()\n",
    "        self.device = torch.device(\"cuda\" if torch.cuda.is_available() else \"cpu\")\n",
    "        self.bias = kwargs.get('bias',False)\n",
    "        # turn the bias off so as to only do matrix multiplication \n",
    "        kwargs['bias'] = False\n",
    "        self.f_re = f(*args,**kwargs)\n",
    "        self.f_im = f(*args,**kwargs)\n",
    "        self.b = None\n",
    "        if self.bias:\n",
    "            n = args[1] # output dim\n",
    "            b_r = np.random.randn(n,1).astype('float32')\n",
    "            b_i = np.random.randn(n,1).astype('float32')\n",
    "            z = b_r + 1j*b_i\n",
    "            self.b = ComplexTensor(z)\n",
    "\n",
    "    def forward(self, x): \n",
    "        real = self.f_re(x.real) - self.f_im(x.imag)\n",
    "        imaginary = self.f_re(x.imag) + self.f_im(x.real)\n",
    "        result = torch.cat([real, imaginary], dim=-2)\n",
    "        result.__class__ = ComplexTensor\n",
    "        if self.b:\n",
    "            result = result + self.b\n",
    "        return result"
   ]
  },
  {
   "cell_type": "markdown",
   "metadata": {},
   "source": [
    "I believe that this should work for the other layers too, e.g. Dense, Conv, ConvTran. But not maxpool, batchNorm, etc. I would like to build a meta class that builds complex layers as follows:\n",
    "\n",
    "ComplexConv2d = MetaComplexMM('conv2d',kwargs)\n",
    "\n",
    "ComplexDense = MetaComplexMM('Dense',kwargs)\n",
    "\n",
    ".\n",
    ".\n",
    ".\n",
    "\n",
    "but I don't know how. \n",
    "\n",
    "I'm trying some approaches from here\n",
    "\n",
    "https://realpython.com/python-metaclasses/\n",
    "\n",
    "https://stackoverflow.com/questions/681953/how-to-decorate-a-class"
   ]
  },
  {
   "cell_type": "code",
   "execution_count": 54,
   "metadata": {},
   "outputs": [],
   "source": [
    "class MetaComplexMM(type):\n",
    "    \n",
    "    def __new__(meta, name, bases, dct):\n",
    "        x = super(MetaComplexMM, meta).__new__(meta, name, bases, dct)\n",
    "        return x\n",
    "    \n",
    "    def __init__(cls, name, bases, dct):\n",
    "        super(MetaComplexMM, cls).__init__(name, bases, dct)\n",
    "        cls.device = torch.device(\"cuda\" if torch.cuda.is_available() else \"cpu\")\n",
    "        cls.bias = dct.get('bias',False)\n",
    "        # turn the bias off so as to only do matrix multiplication \n",
    "        dct['bias'] = False\n",
    "        cls.f_re = bases[0](**dct)\n",
    "        cls.f_im = bases[0](**dct)\n",
    "        cls.b = None\n",
    "        if cls.bias:\n",
    "            n = args[1] # output dim\n",
    "            b_r = np.random.randn(n,1).astype('float32')\n",
    "            b_i = np.random.randn(n,1).astype('float32')\n",
    "            z = b_r + 1j*b_i\n",
    "            cls.b = ComplexTensor(z)    \n",
    "\n",
    "    def forward(cls, x): \n",
    "        real = cls.f_re(x.real) - cls.f_im(x.imag)\n",
    "        imaginary = cls.f_re(x.imag) + cls.f_im(x.real)\n",
    "        result = torch.cat([real, imaginary], dim=-2)\n",
    "        result.__class__ = ComplexTensor\n",
    "        if cls.b:\n",
    "            result = result + cls.b\n",
    "        return result"
   ]
  },
  {
   "cell_type": "code",
   "execution_count": 55,
   "metadata": {},
   "outputs": [],
   "source": [
    "dct = {'in_channels':3, 'out_channels':10, 'kernel_size':5}\n",
    "complexConv = MetaComplexMM('ComplexConv2d',(Conv2d,), dct)"
   ]
  },
  {
   "cell_type": "code",
   "execution_count": 56,
   "metadata": {},
   "outputs": [
    {
     "data": {
      "text/plain": [
       "'ComplexConv2d'"
      ]
     },
     "execution_count": 56,
     "metadata": {},
     "output_type": "execute_result"
    }
   ],
   "source": [
    "complexConv.__name__"
   ]
  },
  {
   "cell_type": "code",
   "execution_count": 57,
   "metadata": {},
   "outputs": [
    {
     "data": {
      "text/plain": [
       "3"
      ]
     },
     "execution_count": 57,
     "metadata": {},
     "output_type": "execute_result"
    }
   ],
   "source": [
    "complexConv.in_channels"
   ]
  },
  {
   "cell_type": "code",
   "execution_count": 60,
   "metadata": {},
   "outputs": [],
   "source": [
    "bz = 16\n",
    "x = torch.randn((bz,2,3,100,100))\n",
    "x_np = x.detach().numpy()\n",
    "real = np.squeeze(x_np[:,0,:,:])\n",
    "imag = np.squeeze(x_np[:,1,:,:])\n",
    "z = real + 1j*imag\n",
    "z = ComplexTensor(z)"
   ]
  },
  {
   "cell_type": "code",
   "execution_count": 61,
   "metadata": {},
   "outputs": [
    {
     "ename": "TypeError",
     "evalue": "__init__() missing 2 required positional arguments: 'out_channels' and 'kernel_size'",
     "output_type": "error",
     "traceback": [
      "\u001b[0;31m---------------------------------------------------------------------------\u001b[0m",
      "\u001b[0;31mTypeError\u001b[0m                                 Traceback (most recent call last)",
      "\u001b[0;32m<ipython-input-61-c935dcdcb207>\u001b[0m in \u001b[0;36m<module>\u001b[0;34m()\u001b[0m\n\u001b[0;32m----> 1\u001b[0;31m \u001b[0mout\u001b[0m \u001b[0;34m=\u001b[0m \u001b[0mcomplexConv\u001b[0m\u001b[0;34m(\u001b[0m\u001b[0mz\u001b[0m\u001b[0;34m)\u001b[0m\u001b[0;34m\u001b[0m\u001b[0m\n\u001b[0m",
      "\u001b[0;31mTypeError\u001b[0m: __init__() missing 2 required positional arguments: 'out_channels' and 'kernel_size'"
     ]
    }
   ],
   "source": [
    "out = complexConv(z)"
   ]
  },
  {
   "cell_type": "code",
   "execution_count": 62,
   "metadata": {},
   "outputs": [
    {
     "ename": "TypeError",
     "evalue": "forward() missing 1 required positional argument: 'input'",
     "output_type": "error",
     "traceback": [
      "\u001b[0;31m---------------------------------------------------------------------------\u001b[0m",
      "\u001b[0;31mTypeError\u001b[0m                                 Traceback (most recent call last)",
      "\u001b[0;32m<ipython-input-62-3d0fc5dea3d7>\u001b[0m in \u001b[0;36m<module>\u001b[0;34m()\u001b[0m\n\u001b[0;32m----> 1\u001b[0;31m \u001b[0mout\u001b[0m \u001b[0;34m=\u001b[0m \u001b[0mcomplexConv\u001b[0m\u001b[0;34m.\u001b[0m\u001b[0mforward\u001b[0m\u001b[0;34m(\u001b[0m\u001b[0mz\u001b[0m\u001b[0;34m)\u001b[0m\u001b[0;34m\u001b[0m\u001b[0m\n\u001b[0m",
      "\u001b[0;31mTypeError\u001b[0m: forward() missing 1 required positional argument: 'input'"
     ]
    }
   ],
   "source": [
    "out = complexConv.forward(z)"
   ]
  },
  {
   "cell_type": "code",
   "execution_count": 63,
   "metadata": {},
   "outputs": [
    {
     "data": {
      "text/plain": [
       "__main__.ComplexConv2d"
      ]
     },
     "execution_count": 63,
     "metadata": {},
     "output_type": "execute_result"
    }
   ],
   "source": [
    "complexConv"
   ]
  },
  {
   "cell_type": "code",
   "execution_count": 68,
   "metadata": {},
   "outputs": [
    {
     "data": {
      "text/plain": [
       "Conv2d(3, 10, kernel_size=(5, 5), stride=(1, 1), bias=False)"
      ]
     },
     "execution_count": 68,
     "metadata": {},
     "output_type": "execute_result"
    }
   ],
   "source": [
    "complexConv.f_re"
   ]
  },
  {
   "cell_type": "code",
   "execution_count": 71,
   "metadata": {},
   "outputs": [],
   "source": [
    "out = complexConv.f_re(z.real)"
   ]
  },
  {
   "cell_type": "code",
   "execution_count": 72,
   "metadata": {},
   "outputs": [
    {
     "data": {
      "text/plain": [
       "torch.Size([16, 10, 96, 96])"
      ]
     },
     "execution_count": 72,
     "metadata": {},
     "output_type": "execute_result"
    }
   ],
   "source": [
    "out.shape"
   ]
  },
  {
   "cell_type": "code",
   "execution_count": null,
   "metadata": {},
   "outputs": [],
   "source": []
  }
 ],
 "metadata": {
  "kernelspec": {
   "display_name": "Python 3",
   "language": "python",
   "name": "python3"
  },
  "language_info": {
   "codemirror_mode": {
    "name": "ipython",
    "version": 3
   },
   "file_extension": ".py",
   "mimetype": "text/x-python",
   "name": "python",
   "nbconvert_exporter": "python",
   "pygments_lexer": "ipython3",
   "version": "3.6.5"
  }
 },
 "nbformat": 4,
 "nbformat_minor": 2
}
