{
 "cells": [
  {
   "cell_type": "markdown",
   "metadata": {},
   "source": [
    "#### The point of this notebook is to show how to build and train a model using ComplexLayer. "
   ]
  },
  {
   "cell_type": "code",
   "execution_count": 16,
   "metadata": {},
   "outputs": [],
   "source": [
    "import os, sys\n",
    "sys.path.append('../')\n",
    "import numpy as np\n",
    "import torch\n",
    "from utils.utils import ComplexLayer, crelu, complexDataset, CompFlatten\n",
    "from data_readers import deepSigDataReaders as dr\n",
    "from pytorch_complex_tensor import ComplexTensor\n",
    "from torch.utils.data import Dataset, DataLoader\n",
    "from torch.nn import Conv1d, Conv2d, Linear, ConvTranspose2d\n",
    "import torch.nn as nn\n",
    "import torch.nn.functional as F"
   ]
  },
  {
   "cell_type": "markdown",
   "metadata": {},
   "source": [
    "#### hyperparams"
   ]
  },
  {
   "cell_type": "code",
   "execution_count": 5,
   "metadata": {},
   "outputs": [],
   "source": [
    "lr = .001\n",
    "bz = 16\n",
    "num_epochs = 2\n",
    "data_path = '/data/DeepSig/RML2016.10a_dict.pkl'"
   ]
  },
  {
   "cell_type": "markdown",
   "metadata": {},
   "source": [
    "#### get the data"
   ]
  },
  {
   "cell_type": "code",
   "execution_count": 21,
   "metadata": {},
   "outputs": [],
   "source": [
    "data = dr.DeepSig_2016a(data_path=data_path)\n",
    "train_data = data['train_data']\n",
    "X,Y = zip(*train_data)\n",
    "X = np.array(X).astype('float32')\n",
    "Y = np.array(Y)\n",
    "N = len(X)\n",
    "num_batches = N//bz\n",
    "num_output = Y.max()+1"
   ]
  },
  {
   "cell_type": "markdown",
   "metadata": {},
   "source": [
    "#### build the model"
   ]
  },
  {
   "cell_type": "code",
   "execution_count": 22,
   "metadata": {},
   "outputs": [],
   "source": [
    "class SimpleCNN(nn.Module):\n",
    "\n",
    "    def __init__(self, num_output=11):\n",
    "        super(SimpleCNN, self).__init__()\n",
    "        self.num_output = num_output\n",
    "        dct = {'in_channels':1, 'out_channels':16, 'kernel_size':(3,), 'padding':1, 'bias':False}\n",
    "        self.conv1 = ComplexLayer(Conv1d,dct)\n",
    "        dct = {'in_channels':16, 'out_channels':32, 'kernel_size':(3,), 'padding':1,'bias':False}\n",
    "        self.conv2 = ComplexLayer(Conv1d,dct)\n",
    "        dct = {'in_channels':32, 'out_channels':64, 'kernel_size':(3,), 'padding':1,'bias':False}\n",
    "        self.conv3 = ComplexLayer(Conv1d,dct)\n",
    "        self.Flatten = CompFlatten()\n",
    "        dct = {'in_features':64*128, 'out_features':num_output,'bias':True}\n",
    "        self.fc1 = ComplexLayer(Linear,dct)\n",
    "\n",
    "    def forward(self,x):\n",
    "        x = crelu(self.conv1(x))\n",
    "        x = crelu(self.conv2(x))\n",
    "        x = crelu(self.conv3(x))\n",
    "        x = self.Flatten(x)\n",
    "        x = self.fc1(x)\n",
    "        x = F.softmax(x.abs(),dim=1)\n",
    "        return x\n",
    "\n",
    "model = SimpleCNN(num_output=num_output)"
   ]
  },
  {
   "cell_type": "markdown",
   "metadata": {},
   "source": [
    "#### create the loss, optimizer and schedule"
   ]
  },
  {
   "cell_type": "code",
   "execution_count": 29,
   "metadata": {},
   "outputs": [],
   "source": [
    "loss = nn.CrossEntropyLoss()\n",
    "optimizer = torch.optim.Adam(model.parameters(),lr=lr)"
   ]
  },
  {
   "cell_type": "markdown",
   "metadata": {},
   "source": [
    "#### train"
   ]
  },
  {
   "cell_type": "code",
   "execution_count": null,
   "metadata": {},
   "outputs": [
    {
     "name": "stdout",
     "output_type": "stream",
     "text": [
      "[1,   100] loss: 2.241\n"
     ]
    }
   ],
   "source": [
    "for epoch in range(1,num_epochs+1):\n",
    "    perm = np.random.permutation(N)\n",
    "    running_loss = 0.0\n",
    "    for i in range(1,num_batches+1):\n",
    "        inds = range(i*bz,(i+1)*bz)\n",
    "        x = ComplexTensor(X[inds])\n",
    "        y = torch.from_numpy(Y[inds])\n",
    "\n",
    "        optimizer.zero_grad()\n",
    "        out = model(x)\n",
    "        l = loss(out,y)\n",
    "        l.backward()\n",
    "        optimizer.step()    \n",
    "\n",
    "        running_loss += l.item()\n",
    "        if i % 100 == 0:    # print every 100 mini-batches\n",
    "            print('[%d, %5d] loss: %.3f' % (epoch, i, running_loss/i))\n",
    " "
   ]
  },
  {
   "cell_type": "code",
   "execution_count": null,
   "metadata": {},
   "outputs": [],
   "source": []
  }
 ],
 "metadata": {
  "kernelspec": {
   "display_name": "Python 3",
   "language": "python",
   "name": "python3"
  },
  "language_info": {
   "codemirror_mode": {
    "name": "ipython",
    "version": 3
   },
   "file_extension": ".py",
   "mimetype": "text/x-python",
   "name": "python",
   "nbconvert_exporter": "python",
   "pygments_lexer": "ipython3",
   "version": "3.6.5"
  }
 },
 "nbformat": 4,
 "nbformat_minor": 2
}
