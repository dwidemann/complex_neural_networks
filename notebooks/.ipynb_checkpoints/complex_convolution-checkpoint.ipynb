{
 "cells": [
  {
   "cell_type": "markdown",
   "metadata": {},
   "source": [
    "## PT complex tensor examples"
   ]
  },
  {
   "cell_type": "code",
   "execution_count": 1,
   "metadata": {},
   "outputs": [],
   "source": [
    "import os, sys\n",
    "import numpy as np\n",
    "import torch\n",
    "import torch.nn as nn\n",
    "sys.path.append('../pytorch-complex-tensor')\n",
    "from pytorch_complex_tensor import ComplexTensor"
   ]
  },
  {
   "cell_type": "markdown",
   "metadata": {},
   "source": [
    "---   \n",
    "Creation"
   ]
  },
  {
   "cell_type": "code",
   "execution_count": 2,
   "metadata": {},
   "outputs": [
    {
     "data": {
      "text/plain": [
       "array([[1.+3.j, 1.+3.j, 1.+3.j],\n",
       "       [2.+4.j, 2.+4.j, 2.+4.j]], dtype=complex64)"
      ]
     },
     "execution_count": 2,
     "metadata": {},
     "output_type": "execute_result"
    }
   ],
   "source": [
    "# numpy complex tensor\n",
    "np_c = np.asarray([[1+3j, 1+3j, 1+3j], [2+4j, 2+4j, 2+4j]]).astype(np.complex64)\n",
    "np_c"
   ]
  },
  {
   "cell_type": "code",
   "execution_count": 3,
   "metadata": {},
   "outputs": [
    {
     "name": "stdout",
     "output_type": "stream",
     "text": [
      "tensor([1.+3.j, 1.+3.j, 1.+3.j, 2.+4.j, 2.+4.j, 2.+4.j], dtype=complex64)\n"
     ]
    }
   ],
   "source": [
    "# torch equivalent\n",
    "pt_c = ComplexTensor([[1, 1, 1], [2,2,2], [3,3,3], [4,4,4]])\n",
    "print(pt_c)"
   ]
  },
  {
   "cell_type": "code",
   "execution_count": 4,
   "metadata": {},
   "outputs": [
    {
     "name": "stdout",
     "output_type": "stream",
     "text": [
      "[[1. 1. 1.]\n",
      " [2. 2. 2.]]\n",
      "tensor([[1., 1., 1.],\n",
      "        [2., 2., 2.]])\n"
     ]
    }
   ],
   "source": [
    "# verify reals match\n",
    "print(np_c.real)\n",
    "print(pt_c.real)"
   ]
  },
  {
   "cell_type": "code",
   "execution_count": 5,
   "metadata": {},
   "outputs": [
    {
     "name": "stdout",
     "output_type": "stream",
     "text": [
      "[[3. 3. 3.]\n",
      " [4. 4. 4.]]\n",
      "tensor([[3., 3., 3.],\n",
      "        [4., 4., 4.]])\n"
     ]
    }
   ],
   "source": [
    "# verify imag match\n",
    "print(np_c.imag)\n",
    "print(pt_c.imag)"
   ]
  },
  {
   "cell_type": "markdown",
   "metadata": {},
   "source": [
    "### Below shows that unsupported functions give erroneous results, i.e. be careful"
   ]
  },
  {
   "cell_type": "code",
   "execution_count": 6,
   "metadata": {},
   "outputs": [
    {
     "name": "stdout",
     "output_type": "stream",
     "text": [
      "tensor([[0.0000, 0.0000, 0.0000],\n",
      "        [1.0000, 1.0000, 1.0000],\n",
      "        [1.5850, 1.5850, 1.5850],\n",
      "        [2.0000, 2.0000, 2.0000]])\n",
      "torch.Size([4, 3])\n"
     ]
    }
   ],
   "source": [
    "a = pt_c.log2()\n",
    "print(a)\n",
    "print(a.shape)"
   ]
  },
  {
   "cell_type": "markdown",
   "metadata": {},
   "source": [
    "---   \n",
    "Verify complex addition"
   ]
  },
  {
   "cell_type": "code",
   "execution_count": 7,
   "metadata": {},
   "outputs": [
    {
     "data": {
      "text/plain": [
       "array([[4.+5.j, 4.+5.j, 4.+5.j],\n",
       "       [5.+6.j, 5.+6.j, 5.+6.j]], dtype=complex64)"
      ]
     },
     "execution_count": 7,
     "metadata": {},
     "output_type": "execute_result"
    }
   ],
   "source": [
    "np_c + (3+2j)"
   ]
  },
  {
   "cell_type": "code",
   "execution_count": 8,
   "metadata": {},
   "outputs": [
    {
     "data": {
      "text/plain": [
       "tensor([4.+5.j, 4.+5.j, 4.+5.j, 5.+6.j, 5.+6.j, 5.+6.j], dtype=complex64)"
      ]
     },
     "execution_count": 8,
     "metadata": {},
     "output_type": "execute_result"
    }
   ],
   "source": [
    "pt_c + (3 + 2j)"
   ]
  },
  {
   "cell_type": "markdown",
   "metadata": {},
   "source": [
    "--- \n",
    "verify abs"
   ]
  },
  {
   "cell_type": "code",
   "execution_count": 9,
   "metadata": {},
   "outputs": [
    {
     "data": {
      "text/plain": [
       "array([[3.1622777, 3.1622777, 3.1622777],\n",
       "       [4.472136 , 4.472136 , 4.472136 ]], dtype=float32)"
      ]
     },
     "execution_count": 9,
     "metadata": {},
     "output_type": "execute_result"
    }
   ],
   "source": [
    "np.abs(np_c)"
   ]
  },
  {
   "cell_type": "code",
   "execution_count": 10,
   "metadata": {},
   "outputs": [
    {
     "data": {
      "text/plain": [
       "tensor([[3.1623, 3.1623, 3.1623],\n",
       "        [4.4721, 4.4721, 4.4721]])"
      ]
     },
     "execution_count": 10,
     "metadata": {},
     "output_type": "execute_result"
    }
   ],
   "source": [
    "pt_c.abs()"
   ]
  },
  {
   "cell_type": "markdown",
   "metadata": {},
   "source": [
    "--- \n",
    "verify complex vs real matrix multiply"
   ]
  },
  {
   "cell_type": "code",
   "execution_count": 11,
   "metadata": {},
   "outputs": [
    {
     "name": "stdout",
     "output_type": "stream",
     "text": [
      "[[3 3]\n",
      " [4 4]\n",
      " [2 2]]\n",
      "tensor([[3., 3.],\n",
      "        [4., 4.],\n",
      "        [2., 2.]])\n"
     ]
    }
   ],
   "source": [
    "np_x = np.asarray([[3, 3], [4, 4], [2, 2]])\n",
    "pt_x = torch.Tensor([[3, 3], [4, 4], [2, 2]])\n",
    "\n",
    "print(np_x)\n",
    "print(pt_x)"
   ]
  },
  {
   "cell_type": "code",
   "execution_count": 12,
   "metadata": {},
   "outputs": [
    {
     "data": {
      "text/plain": [
       "array([[ 9.+27.j,  9.+27.j],\n",
       "       [18.+36.j, 18.+36.j]])"
      ]
     },
     "execution_count": 12,
     "metadata": {},
     "output_type": "execute_result"
    }
   ],
   "source": [
    "np_mm_out = np.matmul(np_c, np_x)\n",
    "np_mm_out"
   ]
  },
  {
   "cell_type": "code",
   "execution_count": 13,
   "metadata": {},
   "outputs": [
    {
     "data": {
      "text/plain": [
       "tensor([ 9.+27.j,  9.+27.j, 18.+36.j, 18.+36.j], dtype=complex64)"
      ]
     },
     "execution_count": 13,
     "metadata": {},
     "output_type": "execute_result"
    }
   ],
   "source": [
    "pt_mm_out = pt_c.mm(pt_x)\n",
    "pt_mm_out"
   ]
  },
  {
   "cell_type": "code",
   "execution_count": 14,
   "metadata": {},
   "outputs": [
    {
     "name": "stdout",
     "output_type": "stream",
     "text": [
      "[[ 9.  9.]\n",
      " [18. 18.]]\n",
      "tensor([[ 9.,  9.],\n",
      "        [18., 18.]])\n"
     ]
    }
   ],
   "source": [
    "# verify reals\n",
    "print(np_mm_out.real)\n",
    "print(pt_mm_out.real)"
   ]
  },
  {
   "cell_type": "code",
   "execution_count": 15,
   "metadata": {},
   "outputs": [
    {
     "name": "stdout",
     "output_type": "stream",
     "text": [
      "[[27. 27.]\n",
      " [36. 36.]]\n",
      "tensor([[27., 27.],\n",
      "        [36., 36.]])\n"
     ]
    }
   ],
   "source": [
    "# verify imags\n",
    "print(np_mm_out.imag)\n",
    "print(pt_mm_out.imag)"
   ]
  },
  {
   "cell_type": "markdown",
   "metadata": {},
   "source": [
    "--- \n",
    "verify transpose"
   ]
  },
  {
   "cell_type": "code",
   "execution_count": 16,
   "metadata": {},
   "outputs": [
    {
     "data": {
      "text/plain": [
       "array([[1.+3.j, 2.+4.j],\n",
       "       [1.+3.j, 2.+4.j],\n",
       "       [1.+3.j, 2.+4.j]], dtype=complex64)"
      ]
     },
     "execution_count": 16,
     "metadata": {},
     "output_type": "execute_result"
    }
   ],
   "source": [
    "np_c.T"
   ]
  },
  {
   "cell_type": "code",
   "execution_count": 17,
   "metadata": {},
   "outputs": [
    {
     "data": {
      "text/plain": [
       "tensor([1.+3.j, 2.+4.j, 1.+3.j, 2.+4.j, 1.+3.j, 2.+4.j], dtype=complex64)"
      ]
     },
     "execution_count": 17,
     "metadata": {},
     "output_type": "execute_result"
    }
   ],
   "source": [
    "pt_c.t()"
   ]
  },
  {
   "cell_type": "markdown",
   "metadata": {},
   "source": [
    "--- \n",
    "## wfalcon/pytorch-complex-tensor\n"
   ]
  },
  {
   "cell_type": "code",
   "execution_count": 18,
   "metadata": {},
   "outputs": [
    {
     "name": "stdout",
     "output_type": "stream",
     "text": [
      "tensor([ 1. +2.j,  3. +4.j,  5. +6.j,  7. +8.j,  9.+10.j, 11.+12.j],\n",
      "      dtype=complex64)\n"
     ]
    }
   ],
   "source": [
    "pt_c2 = ComplexTensor([[1, 3, 5], [7,9,11], [2,4,6], [8,10,12]])\n",
    "print(pt_c2)\n",
    "pt_c2.requires_grad = True"
   ]
  },
  {
   "cell_type": "code",
   "execution_count": 19,
   "metadata": {},
   "outputs": [
    {
     "name": "stdout",
     "output_type": "stream",
     "text": [
      "tensor([15.+136.j, 69.+334.j, -3.+262.j, 51.+676.j], dtype=complex64)\n"
     ]
    }
   ],
   "source": [
    "out = pt_c2 + 4\n",
    "out = out.mm(pt_c2.t())\n",
    "print(out)"
   ]
  },
  {
   "cell_type": "code",
   "execution_count": 20,
   "metadata": {},
   "outputs": [
    {
     "name": "stdout",
     "output_type": "stream",
     "text": [
      "tensor(132., grad_fn=<SumBackward0>)\n",
      "tensor(1408., grad_fn=<SumBackward0>)\n"
     ]
    }
   ],
   "source": [
    "real_sum = out.real.sum()\n",
    "print(real_sum)\n",
    "out_imag = out.imag.sum()\n",
    "print(out_imag)"
   ]
  },
  {
   "cell_type": "code",
   "execution_count": 21,
   "metadata": {},
   "outputs": [],
   "source": [
    "real_sum.backward()"
   ]
  },
  {
   "cell_type": "code",
   "execution_count": 22,
   "metadata": {},
   "outputs": [
    {
     "data": {
      "text/plain": [
       "tensor([['(24.0-20.0j)' '(32.0-28.0j)' '(40.0-36.0j)'],\n",
       "        ['(24.0-20.0j)' '(32.0-28.0j)' '(40.0-36.0j)']])"
      ]
     },
     "execution_count": 22,
     "metadata": {},
     "output_type": "execute_result"
    }
   ],
   "source": [
    "pt_c2.grad"
   ]
  },
  {
   "cell_type": "markdown",
   "metadata": {},
   "source": [
    "### This is the complex convolution code from here:\n",
    "https://github.com/litcoderr/ComplexCNN"
   ]
  },
  {
   "cell_type": "code",
   "execution_count": 23,
   "metadata": {},
   "outputs": [],
   "source": [
    "class ComplexConv(nn.Module):\n",
    "    def __init__(self, in_channel, out_channel, kernel_size, stride=1, padding=0, dilation=1, groups=1, bias=True):\n",
    "        super(ComplexConv,self).__init__()\n",
    "        self.device = torch.device(\"cuda\" if torch.cuda.is_available() else \"cpu\")\n",
    "        self.padding = padding\n",
    "\n",
    "        ## Model components\n",
    "        self.conv_re = nn.Conv2d(in_channel, out_channel, kernel_size, stride=stride, padding=padding, dilation=dilation, groups=groups, bias=bias)\n",
    "        self.conv_im = nn.Conv2d(in_channel, out_channel, kernel_size, stride=stride, padding=padding, dilation=dilation, groups=groups, bias=bias)\n",
    "        \n",
    "    def forward(self, x): # shpae of x : [batch,2,channel,axis1,axis2]\n",
    "        real = self.conv_re(x[:,0]) - self.conv_im(x[:,1])\n",
    "        imaginary = self.conv_re(x[:,1]) + self.conv_im(x[:,0])\n",
    "        output = torch.stack((real,imaginary),dim=1)\n",
    "        return output"
   ]
  },
  {
   "cell_type": "code",
   "execution_count": 79,
   "metadata": {},
   "outputs": [
    {
     "name": "stdout",
     "output_type": "stream",
     "text": [
      "torch.Size([16, 2, 10, 96, 96])\n"
     ]
    }
   ],
   "source": [
    "## Random Tensor for Input\n",
    "## shape : [batchsize,2,channel,axis1_size,axis2_size]\n",
    "## Below dimensions are totally random\n",
    "bz = 16\n",
    "x = torch.randn((bz,2,3,100,100))\n",
    "\n",
    "# 1. Make ComplexConv Object\n",
    "## (in_channel, out_channel, kernel_size) parameter is required\n",
    "complexConv = ComplexConv(3,10,(5,5))\n",
    "\n",
    "# 2. compute\n",
    "y = complexConv(x)\n",
    "print(y.shape)"
   ]
  },
  {
   "cell_type": "code",
   "execution_count": 80,
   "metadata": {},
   "outputs": [
    {
     "name": "stdout",
     "output_type": "stream",
     "text": [
      "(16, 3, 100, 100)\n",
      "(16, 3, 100, 100)\n"
     ]
    }
   ],
   "source": [
    "x_np = x.detach().numpy()\n",
    "real = np.squeeze(x_np[:,0,:,:])\n",
    "imag = np.squeeze(x_np[:,1,:,:])\n",
    "z = real + 1j*imag\n",
    "print(real.shape)\n",
    "print(z.shape)"
   ]
  },
  {
   "cell_type": "code",
   "execution_count": 81,
   "metadata": {},
   "outputs": [
    {
     "data": {
      "text/plain": [
       "torch.Size([16, 3, 100, 100])"
      ]
     },
     "execution_count": 81,
     "metadata": {},
     "output_type": "execute_result"
    }
   ],
   "source": [
    "C = ComplexTensor(z)\n",
    "C.shape"
   ]
  },
  {
   "cell_type": "markdown",
   "metadata": {},
   "source": [
    "### Example initialization from pytorch tensors"
   ]
  },
  {
   "cell_type": "code",
   "execution_count": 114,
   "metadata": {},
   "outputs": [
    {
     "name": "stdout",
     "output_type": "stream",
     "text": [
      "torch.Size([16, 3, 200, 100])\n"
     ]
    }
   ],
   "source": [
    "D = torch.cat([x[:,0,:,:].squeeze(),x[:,1,:,:].squeeze()],dim=-2)\n",
    "print(D.shape)\n",
    "D.__class__ = ComplexTensor\n",
    "assert torch.all(D.real == C.real)\n",
    "assert torch.all(D.imag == C.imag)"
   ]
  },
  {
   "cell_type": "code",
   "execution_count": 107,
   "metadata": {},
   "outputs": [],
   "source": [
    "class ComplexConv_w_complexTensor(nn.Module):\n",
    "    def __init__(self, in_channel, out_channel, kernel_size, stride=1, padding=0, dilation=1, groups=1, bias=True):\n",
    "        super(ComplexConv_w_complexTensor,self).__init__()\n",
    "        self.device = torch.device(\"cuda\" if torch.cuda.is_available() else \"cpu\")\n",
    "        self.padding = padding\n",
    "\n",
    "        ## Model components\n",
    "        self.conv_re = nn.Conv2d(in_channel, out_channel, kernel_size, stride=stride, padding=padding, dilation=dilation, groups=groups, bias=bias)\n",
    "        self.conv_im = nn.Conv2d(in_channel, out_channel, kernel_size, stride=stride, padding=padding, dilation=dilation, groups=groups, bias=bias)\n",
    "        \n",
    "    def forward(self, x): # shpae of x : [batch,2,channel,axis1,axis2]\n",
    "        real = self.conv_re(x.real) - self.conv_im(x.imag)\n",
    "        imaginary = self.conv_re(x.imag) + self.conv_im(x.real)\n",
    "        result = torch.cat([real, imaginary], dim=-2)\n",
    "        result.__class__ = ComplexTensor\n",
    "        return result\n",
    "    "
   ]
  },
  {
   "cell_type": "code",
   "execution_count": 108,
   "metadata": {},
   "outputs": [],
   "source": [
    "complexConv_w_CT = ComplexConv_w_complexTensor(3,10,(5,5))\n",
    "complexConv_w_CT.conv_re = complexConv.conv_re\n",
    "complexConv_w_CT.conv_im = complexConv.conv_im"
   ]
  },
  {
   "cell_type": "code",
   "execution_count": 109,
   "metadata": {},
   "outputs": [
    {
     "name": "stdout",
     "output_type": "stream",
     "text": [
      "torch.Size([16, 10, 96, 96])\n",
      "tensor(0., grad_fn=<MaxBackward1>)\n",
      "tensor(0., grad_fn=<MaxBackward1>)\n"
     ]
    }
   ],
   "source": [
    "y2 = complexConv_w_CT(C)\n",
    "print(y2.shape)\n",
    "real_err = y2.real - y[:,0,:,:].squeeze()\n",
    "imag_err = y2.imag - y[:,1,:,:].squeeze()\n",
    "print(torch.max(real_err.abs()))\n",
    "print(torch.max(imag_err.abs()))"
   ]
  },
  {
   "cell_type": "code",
   "execution_count": null,
   "metadata": {},
   "outputs": [],
   "source": []
  }
 ],
 "metadata": {
  "kernelspec": {
   "display_name": "Python 3",
   "language": "python",
   "name": "python3"
  },
  "language_info": {
   "codemirror_mode": {
    "name": "ipython",
    "version": 3
   },
   "file_extension": ".py",
   "mimetype": "text/x-python",
   "name": "python",
   "nbconvert_exporter": "python",
   "pygments_lexer": "ipython3",
   "version": "3.6.5"
  }
 },
 "nbformat": 4,
 "nbformat_minor": 2
}
