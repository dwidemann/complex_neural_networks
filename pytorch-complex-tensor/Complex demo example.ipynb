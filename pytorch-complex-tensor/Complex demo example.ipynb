{
 "cells": [
  {
   "cell_type": "markdown",
   "metadata": {},
   "source": [
    "## PT complex tensor examples"
   ]
  },
  {
   "cell_type": "code",
   "execution_count": 2,
   "metadata": {},
   "outputs": [],
   "source": [
    "import numpy as np\n",
    "import torch\n",
    "from pytorch_complex_tensor import ComplexTensor\n",
    "import tensorflow as tf\n",
    "#tf.enable_eager_execution()"
   ]
  },
  {
   "cell_type": "markdown",
   "metadata": {},
   "source": [
    "---   \n",
    "Creation"
   ]
  },
  {
   "cell_type": "code",
   "execution_count": 3,
   "metadata": {},
   "outputs": [
    {
     "data": {
      "text/plain": [
       "array([[1.+3.j, 1.+3.j, 1.+3.j],\n",
       "       [2.+4.j, 2.+4.j, 2.+4.j]], dtype=complex64)"
      ]
     },
     "execution_count": 3,
     "metadata": {},
     "output_type": "execute_result"
    }
   ],
   "source": [
    "# numpy complex tensor\n",
    "np_c = np.asarray([[1+3j, 1+3j, 1+3j], [2+4j, 2+4j, 2+4j]]).astype(np.complex64)\n",
    "np_c"
   ]
  },
  {
   "cell_type": "code",
   "execution_count": 4,
   "metadata": {},
   "outputs": [
    {
     "name": "stdout",
     "output_type": "stream",
     "text": [
      "tensor([1.+3.j, 1.+3.j, 1.+3.j, 2.+4.j, 2.+4.j, 2.+4.j], dtype=complex64)\n"
     ]
    }
   ],
   "source": [
    "# torch equivalent\n",
    "pt_c = ComplexTensor([[1, 1, 1], [2,2,2], [3,3,3], [4,4,4]])\n",
    "print(pt_c)"
   ]
  },
  {
   "cell_type": "code",
   "execution_count": 5,
   "metadata": {},
   "outputs": [
    {
     "name": "stdout",
     "output_type": "stream",
     "text": [
      "[[1. 1. 1.]\n",
      " [2. 2. 2.]]\n",
      "tensor([[1., 1., 1.],\n",
      "        [2., 2., 2.]])\n"
     ]
    }
   ],
   "source": [
    "# verify reals match\n",
    "print(np_c.real)\n",
    "print(pt_c.real)"
   ]
  },
  {
   "cell_type": "code",
   "execution_count": 6,
   "metadata": {},
   "outputs": [
    {
     "name": "stdout",
     "output_type": "stream",
     "text": [
      "[[3. 3. 3.]\n",
      " [4. 4. 4.]]\n",
      "tensor([[3., 3., 3.],\n",
      "        [4., 4., 4.]])\n"
     ]
    }
   ],
   "source": [
    "# verify imag match\n",
    "print(np_c.imag)\n",
    "print(pt_c.imag)"
   ]
  },
  {
   "cell_type": "code",
   "execution_count": 24,
   "metadata": {},
   "outputs": [],
   "source": [
    "a = pt_c.log2()\n"
   ]
  },
  {
   "cell_type": "markdown",
   "metadata": {},
   "source": [
    "---   \n",
    "Verify complex addition"
   ]
  },
  {
   "cell_type": "code",
   "execution_count": 7,
   "metadata": {},
   "outputs": [
    {
     "data": {
      "text/plain": [
       "array([[4.+5.j, 4.+5.j, 4.+5.j],\n",
       "       [5.+6.j, 5.+6.j, 5.+6.j]], dtype=complex64)"
      ]
     },
     "execution_count": 7,
     "metadata": {},
     "output_type": "execute_result"
    }
   ],
   "source": [
    "np_c + (3+2j)"
   ]
  },
  {
   "cell_type": "code",
   "execution_count": 8,
   "metadata": {},
   "outputs": [
    {
     "data": {
      "text/plain": [
       "tensor([4.+5.j, 4.+5.j, 4.+5.j, 5.+6.j, 5.+6.j, 5.+6.j], dtype=complex64)"
      ]
     },
     "execution_count": 8,
     "metadata": {},
     "output_type": "execute_result"
    }
   ],
   "source": [
    "pt_c + (3 + 2j)"
   ]
  },
  {
   "cell_type": "markdown",
   "metadata": {},
   "source": [
    "--- \n",
    "verify abs"
   ]
  },
  {
   "cell_type": "code",
   "execution_count": 9,
   "metadata": {},
   "outputs": [
    {
     "data": {
      "text/plain": [
       "array([[3.1622777, 3.1622777, 3.1622777],\n",
       "       [4.472136 , 4.472136 , 4.472136 ]], dtype=float32)"
      ]
     },
     "execution_count": 9,
     "metadata": {},
     "output_type": "execute_result"
    }
   ],
   "source": [
    "np.abs(np_c)"
   ]
  },
  {
   "cell_type": "code",
   "execution_count": 10,
   "metadata": {},
   "outputs": [
    {
     "data": {
      "text/plain": [
       "tensor([[3.1623, 3.1623, 3.1623],\n",
       "        [4.4721, 4.4721, 4.4721]])"
      ]
     },
     "execution_count": 10,
     "metadata": {},
     "output_type": "execute_result"
    }
   ],
   "source": [
    "pt_c.abs()"
   ]
  },
  {
   "cell_type": "markdown",
   "metadata": {},
   "source": [
    "--- \n",
    "verify complex vs real matrix multiply"
   ]
  },
  {
   "cell_type": "code",
   "execution_count": 11,
   "metadata": {},
   "outputs": [
    {
     "name": "stdout",
     "output_type": "stream",
     "text": [
      "[[3 3]\n",
      " [4 4]\n",
      " [2 2]]\n",
      "tensor([[3., 3.],\n",
      "        [4., 4.],\n",
      "        [2., 2.]])\n"
     ]
    }
   ],
   "source": [
    "np_x = np.asarray([[3, 3], [4, 4], [2, 2]])\n",
    "pt_x = torch.Tensor([[3, 3], [4, 4], [2, 2]])\n",
    "\n",
    "print(np_x)\n",
    "print(pt_x)"
   ]
  },
  {
   "cell_type": "code",
   "execution_count": 12,
   "metadata": {},
   "outputs": [
    {
     "data": {
      "text/plain": [
       "array([[ 9.+27.j,  9.+27.j],\n",
       "       [18.+36.j, 18.+36.j]])"
      ]
     },
     "execution_count": 12,
     "metadata": {},
     "output_type": "execute_result"
    }
   ],
   "source": [
    "np_mm_out = np.matmul(np_c, np_x)\n",
    "np_mm_out"
   ]
  },
  {
   "cell_type": "code",
   "execution_count": 13,
   "metadata": {},
   "outputs": [
    {
     "data": {
      "text/plain": [
       "tensor([ 9.+27.j,  9.+27.j, 18.+36.j, 18.+36.j], dtype=complex64)"
      ]
     },
     "execution_count": 13,
     "metadata": {},
     "output_type": "execute_result"
    }
   ],
   "source": [
    "pt_mm_out = pt_c.mm(pt_x)\n",
    "pt_mm_out"
   ]
  },
  {
   "cell_type": "code",
   "execution_count": 14,
   "metadata": {},
   "outputs": [
    {
     "name": "stdout",
     "output_type": "stream",
     "text": [
      "[[ 9.  9.]\n",
      " [18. 18.]]\n",
      "tensor([[ 9.,  9.],\n",
      "        [18., 18.]])\n"
     ]
    }
   ],
   "source": [
    "# verify reals\n",
    "print(np_mm_out.real)\n",
    "print(pt_mm_out.real)"
   ]
  },
  {
   "cell_type": "code",
   "execution_count": 15,
   "metadata": {},
   "outputs": [
    {
     "name": "stdout",
     "output_type": "stream",
     "text": [
      "[[27. 27.]\n",
      " [36. 36.]]\n",
      "tensor([[27., 27.],\n",
      "        [36., 36.]])\n"
     ]
    }
   ],
   "source": [
    "# verify imags\n",
    "print(np_mm_out.imag)\n",
    "print(pt_mm_out.imag)"
   ]
  },
  {
   "cell_type": "markdown",
   "metadata": {},
   "source": [
    "--- \n",
    "verify transpose"
   ]
  },
  {
   "cell_type": "code",
   "execution_count": 16,
   "metadata": {},
   "outputs": [
    {
     "data": {
      "text/plain": [
       "array([[1.+3.j, 2.+4.j],\n",
       "       [1.+3.j, 2.+4.j],\n",
       "       [1.+3.j, 2.+4.j]], dtype=complex64)"
      ]
     },
     "execution_count": 16,
     "metadata": {},
     "output_type": "execute_result"
    }
   ],
   "source": [
    "np_c.T"
   ]
  },
  {
   "cell_type": "code",
   "execution_count": 17,
   "metadata": {},
   "outputs": [
    {
     "data": {
      "text/plain": [
       "tensor([1.+3.j, 2.+4.j, 1.+3.j, 2.+4.j, 1.+3.j, 2.+4.j], dtype=complex64)"
      ]
     },
     "execution_count": 17,
     "metadata": {},
     "output_type": "execute_result"
    }
   ],
   "source": [
    "pt_c.t()"
   ]
  },
  {
   "cell_type": "markdown",
   "metadata": {},
   "source": [
    "--- \n",
    "## wfalcon/pytorch-complex-tensor\n"
   ]
  },
  {
   "cell_type": "code",
   "execution_count": 18,
   "metadata": {},
   "outputs": [
    {
     "name": "stdout",
     "output_type": "stream",
     "text": [
      "tensor([ 1. +2.j,  3. +4.j,  5. +6.j,  7. +8.j,  9.+10.j, 11.+12.j],\n",
      "      dtype=complex64)\n"
     ]
    }
   ],
   "source": [
    "pt_c2 = ComplexTensor([[1, 3, 5], [7,9,11], [2,4,6], [8,10,12]])\n",
    "print(pt_c2)\n",
    "pt_c2.requires_grad = True"
   ]
  },
  {
   "cell_type": "code",
   "execution_count": 19,
   "metadata": {},
   "outputs": [
    {
     "name": "stdout",
     "output_type": "stream",
     "text": [
      "tensor([15.+136.j, 69.+334.j, -3.+262.j, 51.+676.j], dtype=complex64)\n"
     ]
    }
   ],
   "source": [
    "out = pt_c2 + 4\n",
    "out = out.mm(pt_c2.t())\n",
    "print(out)"
   ]
  },
  {
   "cell_type": "code",
   "execution_count": 20,
   "metadata": {},
   "outputs": [
    {
     "name": "stdout",
     "output_type": "stream",
     "text": [
      "tensor(132., grad_fn=<SumBackward0>)\n",
      "tensor(1408., grad_fn=<SumBackward0>)\n"
     ]
    }
   ],
   "source": [
    "real_sum = out.real.sum()\n",
    "print(real_sum)\n",
    "out_imag = out.imag.sum()\n",
    "print(out_imag)"
   ]
  },
  {
   "cell_type": "code",
   "execution_count": 21,
   "metadata": {},
   "outputs": [],
   "source": [
    "real_sum.backward()"
   ]
  },
  {
   "cell_type": "code",
   "execution_count": 22,
   "metadata": {},
   "outputs": [
    {
     "data": {
      "text/plain": [
       "tensor([['(24.0-20.0j)' '(32.0-28.0j)' '(40.0-36.0j)'],\n",
       "        ['(24.0-20.0j)' '(32.0-28.0j)' '(40.0-36.0j)']])"
      ]
     },
     "execution_count": 22,
     "metadata": {},
     "output_type": "execute_result"
    }
   ],
   "source": [
    "pt_c2.grad"
   ]
  },
  {
   "cell_type": "markdown",
   "metadata": {},
   "source": [
    "---  \n",
    "### Use Tensorflow to compute grads\n"
   ]
  },
  {
   "cell_type": "code",
   "execution_count": 23,
   "metadata": {},
   "outputs": [],
   "source": [
    "tf_c2 = tf.constant([[1+2j, 3+4j, 5+6j], [7+8j,9+10j,11+12j]], dtype=tf.complex64)"
   ]
  },
  {
   "cell_type": "code",
   "execution_count": 7,
   "metadata": {},
   "outputs": [
    {
     "name": "stdout",
     "output_type": "stream",
     "text": [
      "tf.Tensor(\n",
      "[[15.+136.j 69.+334.j]\n",
      " [-3.+262.j 51.+676.j]], shape=(2, 2), dtype=complex64)\n",
      "tf.Tensor((132+1408j), shape=(), dtype=complex64)\n"
     ]
    }
   ],
   "source": [
    "with tf.GradientTape() as t:\n",
    "    t.watch(tf_c2)\n",
    "    tf_out = tf_c2 + 4\n",
    "    tf_out = tf.matmul(tf_out, tf.transpose(tf_c2, perm=[1,0]))\n",
    "    print(tf_out)\n",
    "    \n",
    "    tf_y = tf.reduce_sum(tf_out)\n",
    "    print(tf_y)"
   ]
  },
  {
   "cell_type": "code",
   "execution_count": 8,
   "metadata": {},
   "outputs": [],
   "source": [
    "dy_dc2 = t.gradient(tf_y, tf_c2)"
   ]
  },
  {
   "cell_type": "code",
   "execution_count": 9,
   "metadata": {},
   "outputs": [
    {
     "data": {
      "text/plain": [
       "<tf.Tensor: id=62, shape=(2, 3), dtype=complex64, numpy=\n",
       "array([[24.-20.j, 32.-28.j, 40.-36.j],\n",
       "       [24.-20.j, 32.-28.j, 40.-36.j]], dtype=complex64)>"
      ]
     },
     "execution_count": 9,
     "metadata": {},
     "output_type": "execute_result"
    }
   ],
   "source": [
    "dy_dc2"
   ]
  }
 ],
 "metadata": {
  "kernelspec": {
   "display_name": "Python 3",
   "language": "python",
   "name": "python3"
  },
  "language_info": {
   "codemirror_mode": {
    "name": "ipython",
    "version": 3
   },
   "file_extension": ".py",
   "mimetype": "text/x-python",
   "name": "python",
   "nbconvert_exporter": "python",
   "pygments_lexer": "ipython3",
   "version": "3.6.5"
  }
 },
 "nbformat": 4,
 "nbformat_minor": 2
}
